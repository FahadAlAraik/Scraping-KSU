{
 "cells": [
  {
   "cell_type": "code",
   "execution_count": 3,
   "id": "583be058",
   "metadata": {},
   "outputs": [],
   "source": [
    "import pandas as pd\n",
    "import re"
   ]
  },
  {
   "cell_type": "code",
   "execution_count": 4,
   "id": "6db40b42",
   "metadata": {},
   "outputs": [],
   "source": [
    "file_to_be_read = 'cenx' # <-- enter the file named that you saved as a csv (when you merged the courses and finals df)\n",
    "df = pd.read_csv(f'{file_to_be_read}_combined.csv')"
   ]
  },
  {
   "cell_type": "code",
   "execution_count": 5,
   "id": "b642462d",
   "metadata": {},
   "outputs": [],
   "source": [
    "df = df.drop('Unnamed: 0',axis=1)"
   ]
  },
  {
   "cell_type": "code",
   "execution_count": 6,
   "id": "2fc6a8be",
   "metadata": {},
   "outputs": [
    {
     "name": "stdout",
     "output_type": "stream",
     "text": [
      "227 عال\n"
     ]
    }
   ],
   "source": [
    "for i in df.course_code.unique():\n",
    "    print (i)"
   ]
  },
  {
   "cell_type": "code",
   "execution_count": 7,
   "id": "59b0c0f0",
   "metadata": {},
   "outputs": [
    {
     "data": {
      "text/html": [
       "<div>\n",
       "<style scoped>\n",
       "    .dataframe tbody tr th:only-of-type {\n",
       "        vertical-align: middle;\n",
       "    }\n",
       "\n",
       "    .dataframe tbody tr th {\n",
       "        vertical-align: top;\n",
       "    }\n",
       "\n",
       "    .dataframe thead th {\n",
       "        text-align: right;\n",
       "    }\n",
       "</style>\n",
       "<table border=\"1\" class=\"dataframe\">\n",
       "  <thead>\n",
       "    <tr style=\"text-align: right;\">\n",
       "      <th></th>\n",
       "      <th>course_code</th>\n",
       "      <th>course_name</th>\n",
       "      <th>section_number</th>\n",
       "      <th>course_type</th>\n",
       "      <th>course_hours</th>\n",
       "      <th>course_gender</th>\n",
       "      <th>course_day</th>\n",
       "      <th>course_time</th>\n",
       "      <th>final_exam_day</th>\n",
       "      <th>final_exam_date</th>\n",
       "      <th>final_exam_time</th>\n",
       "      <th>lecturer</th>\n",
       "    </tr>\n",
       "  </thead>\n",
       "  <tbody>\n",
       "    <tr>\n",
       "      <th>0</th>\n",
       "      <td>227 عال</td>\n",
       "      <td>نظم التشغيل</td>\n",
       "      <td>12320</td>\n",
       "      <td>محاضرة</td>\n",
       "      <td>3</td>\n",
       "      <td>ذكر</td>\n",
       "      <td>['2', '2 4']</td>\n",
       "      <td>['  08:00 ص - 09:05 ص', '  09:15 ص - 10:20 ص']</td>\n",
       "      <td>3</td>\n",
       "      <td>1444-11-24</td>\n",
       "      <td>01:00 م - 04:00 م</td>\n",
       "      <td>['مجدل سلطان مجدل بن سفران']</td>\n",
       "    </tr>\n",
       "    <tr>\n",
       "      <th>1</th>\n",
       "      <td>227 عال</td>\n",
       "      <td>نظم التشغيل</td>\n",
       "      <td>12321</td>\n",
       "      <td>تمارين</td>\n",
       "      <td>ذكر</td>\n",
       "      <td>مغلقة</td>\n",
       "      <td>['4']</td>\n",
       "      <td>['  08:00 ص - 09:05 ص']</td>\n",
       "      <td>---</td>\n",
       "      <td>---</td>\n",
       "      <td>---</td>\n",
       "      <td>['مجدل سلطان مجدل بن سفران']</td>\n",
       "    </tr>\n",
       "    <tr>\n",
       "      <th>2</th>\n",
       "      <td>227 عال</td>\n",
       "      <td>نظم التشغيل</td>\n",
       "      <td>12328</td>\n",
       "      <td>محاضرة</td>\n",
       "      <td>3</td>\n",
       "      <td>ذكر</td>\n",
       "      <td>['1', '1 3']</td>\n",
       "      <td>['  08:00 ص - 09:05 ص', '  09:15 ص - 10:20 ص']</td>\n",
       "      <td>3</td>\n",
       "      <td>1444-11-24</td>\n",
       "      <td>01:00 م - 04:00 م</td>\n",
       "      <td>['محمد جاويد يوسف']</td>\n",
       "    </tr>\n",
       "    <tr>\n",
       "      <th>3</th>\n",
       "      <td>227 عال</td>\n",
       "      <td>نظم التشغيل</td>\n",
       "      <td>12329</td>\n",
       "      <td>تمارين</td>\n",
       "      <td>ذكر</td>\n",
       "      <td>مغلقة</td>\n",
       "      <td>['3']</td>\n",
       "      <td>['  08:00 ص - 09:05 ص']</td>\n",
       "      <td>---</td>\n",
       "      <td>---</td>\n",
       "      <td>---</td>\n",
       "      <td>['محمد جاويد يوسف']</td>\n",
       "    </tr>\n",
       "    <tr>\n",
       "      <th>4</th>\n",
       "      <td>227 عال</td>\n",
       "      <td>نظم التشغيل</td>\n",
       "      <td>35605</td>\n",
       "      <td>محاضرة</td>\n",
       "      <td>3</td>\n",
       "      <td>ذكر</td>\n",
       "      <td>['4', '2 4']</td>\n",
       "      <td>['  08:00 ص - 09:05 ص', '  09:15 ص - 10:20 ص']</td>\n",
       "      <td>3</td>\n",
       "      <td>1444-11-24</td>\n",
       "      <td>01:00 م - 04:00 م</td>\n",
       "      <td>['فواز عبدالعزيز عبدالله السليمان']</td>\n",
       "    </tr>\n",
       "  </tbody>\n",
       "</table>\n",
       "</div>"
      ],
      "text/plain": [
       "  course_code  course_name  section_number course_type course_hours  \\\n",
       "0     227 عال  نظم التشغيل           12320      محاضرة            3   \n",
       "1     227 عال  نظم التشغيل           12321      تمارين          ذكر   \n",
       "2     227 عال  نظم التشغيل           12328      محاضرة            3   \n",
       "3     227 عال  نظم التشغيل           12329      تمارين          ذكر   \n",
       "4     227 عال  نظم التشغيل           35605      محاضرة            3   \n",
       "\n",
       "  course_gender    course_day                                     course_time  \\\n",
       "0           ذكر  ['2', '2 4']  ['  08:00 ص - 09:05 ص', '  09:15 ص - 10:20 ص']   \n",
       "1         مغلقة         ['4']                         ['  08:00 ص - 09:05 ص']   \n",
       "2           ذكر  ['1', '1 3']  ['  08:00 ص - 09:05 ص', '  09:15 ص - 10:20 ص']   \n",
       "3         مغلقة         ['3']                         ['  08:00 ص - 09:05 ص']   \n",
       "4           ذكر  ['4', '2 4']  ['  08:00 ص - 09:05 ص', '  09:15 ص - 10:20 ص']   \n",
       "\n",
       "  final_exam_day final_exam_date    final_exam_time  \\\n",
       "0              3      1444-11-24  01:00 م - 04:00 م   \n",
       "1            ---             ---                ---   \n",
       "2              3      1444-11-24  01:00 م - 04:00 م   \n",
       "3            ---             ---                ---   \n",
       "4              3      1444-11-24  01:00 م - 04:00 م   \n",
       "\n",
       "                              lecturer  \n",
       "0         ['مجدل سلطان مجدل بن سفران']  \n",
       "1         ['مجدل سلطان مجدل بن سفران']  \n",
       "2                  ['محمد جاويد يوسف']  \n",
       "3                  ['محمد جاويد يوسف']  \n",
       "4  ['فواز عبدالعزيز عبدالله السليمان']  "
      ]
     },
     "execution_count": 7,
     "metadata": {},
     "output_type": "execute_result"
    }
   ],
   "source": [
    "df.head()"
   ]
  },
  {
   "cell_type": "code",
   "execution_count": 8,
   "id": "9578509e",
   "metadata": {},
   "outputs": [],
   "source": [
    "redundant = ['100 عرب','101 نهج','redundant','101 ادا']\n",
    "df = df[~df.course_code.isin(redundant)]"
   ]
  },
  {
   "cell_type": "code",
   "execution_count": 9,
   "id": "d813c98c",
   "metadata": {},
   "outputs": [
    {
     "data": {
      "text/plain": [
       "array(['227 عال'], dtype=object)"
      ]
     },
     "execution_count": 9,
     "metadata": {},
     "output_type": "execute_result"
    }
   ],
   "source": [
    "df.course_code.unique()"
   ]
  },
  {
   "cell_type": "code",
   "execution_count": 10,
   "id": "d0320282",
   "metadata": {},
   "outputs": [
    {
     "data": {
      "text/plain": [
       "Index(['course_code', 'course_name', 'section_number', 'course_type',\n",
       "       'course_hours', 'course_gender', 'course_day', 'course_time',\n",
       "       'final_exam_day', 'final_exam_date', 'final_exam_time', 'lecturer'],\n",
       "      dtype='object')"
      ]
     },
     "execution_count": 10,
     "metadata": {},
     "output_type": "execute_result"
    }
   ],
   "source": [
    "df.columns"
   ]
  },
  {
   "cell_type": "markdown",
   "id": "ad2fb505",
   "metadata": {},
   "source": [
    "# Clean, Process Here"
   ]
  },
  {
   "cell_type": "code",
   "execution_count": 11,
   "id": "c9f10e11",
   "metadata": {},
   "outputs": [],
   "source": [
    "def cleanCourseTime(row):\n",
    "    \n",
    "    time_pattern = r'(\\d{2}:\\d{2})\\s[ص|م]\\s-\\s(\\d{2}:\\d{2})'\n",
    "\n",
    "    matches = re.findall(time_pattern, row['course_time'])\n",
    "\n",
    "    formatted_times = [f'{start}-{end}' for start, end in matches]\n",
    "    \n",
    "    return formatted_times\n"
   ]
  },
  {
   "cell_type": "code",
   "execution_count": 12,
   "id": "9bc4bd61",
   "metadata": {},
   "outputs": [],
   "source": [
    "def cleanCourseDay(row):\n",
    "    \n",
    "    arr = []\n",
    "    string=\"\"\n",
    "    for i in row['course_day']:\n",
    "        \n",
    "        if i == ',':\n",
    "            arr.append(string)\n",
    "            string=\"\"\n",
    "        \n",
    "        if i.isdigit():\n",
    "            string +=i\n",
    "        \n",
    "        \n",
    "    arr.append(string)\n",
    "    return arr"
   ]
  },
  {
   "cell_type": "code",
   "execution_count": 13,
   "id": "76d5f0cc",
   "metadata": {},
   "outputs": [
    {
     "data": {
      "text/plain": [
       "0     ['  08:00 ص - 09:05 ص', '  09:15 ص - 10:20 ص']\n",
       "1                            ['  08:00 ص - 09:05 ص']\n",
       "2     ['  08:00 ص - 09:05 ص', '  09:15 ص - 10:20 ص']\n",
       "3                            ['  08:00 ص - 09:05 ص']\n",
       "4     ['  08:00 ص - 09:05 ص', '  09:15 ص - 10:20 ص']\n",
       "5                            ['  08:00 ص - 09:05 ص']\n",
       "6                            ['  09:15 ص - 10:20 ص']\n",
       "7                            ['  11:45 ص - 12:50 م']\n",
       "8     ['  10:30 ص - 11:35 ص', '  11:45 ص - 12:50 م']\n",
       "9                            ['  10:30 ص - 11:35 ص']\n",
       "10    ['  10:30 ص - 11:35 ص', '  11:45 ص - 12:50 م']\n",
       "11                           ['  11:45 ص - 12:50 م']\n",
       "Name: course_time, dtype: object"
      ]
     },
     "execution_count": 13,
     "metadata": {},
     "output_type": "execute_result"
    }
   ],
   "source": [
    "df['course_time']"
   ]
  },
  {
   "cell_type": "code",
   "execution_count": 14,
   "id": "7e0fb28e",
   "metadata": {},
   "outputs": [],
   "source": [
    "df['course_day']=df.apply(cleanCourseDay,axis=1)"
   ]
  },
  {
   "cell_type": "code",
   "execution_count": 15,
   "id": "c5cfed7e",
   "metadata": {},
   "outputs": [],
   "source": [
    "df['course_time']=df.apply(cleanCourseTime,axis=1)"
   ]
  },
  {
   "cell_type": "code",
   "execution_count": 16,
   "id": "08fedbde",
   "metadata": {},
   "outputs": [
    {
     "data": {
      "text/plain": [
       "'2'"
      ]
     },
     "execution_count": 16,
     "metadata": {},
     "output_type": "execute_result"
    }
   ],
   "source": [
    "df.loc[0,'course_day'][0]"
   ]
  },
  {
   "cell_type": "code",
   "execution_count": 17,
   "id": "ba9f5ca4",
   "metadata": {
    "scrolled": true
   },
   "outputs": [
    {
     "data": {
      "text/html": [
       "<div>\n",
       "<style scoped>\n",
       "    .dataframe tbody tr th:only-of-type {\n",
       "        vertical-align: middle;\n",
       "    }\n",
       "\n",
       "    .dataframe tbody tr th {\n",
       "        vertical-align: top;\n",
       "    }\n",
       "\n",
       "    .dataframe thead th {\n",
       "        text-align: right;\n",
       "    }\n",
       "</style>\n",
       "<table border=\"1\" class=\"dataframe\">\n",
       "  <thead>\n",
       "    <tr style=\"text-align: right;\">\n",
       "      <th></th>\n",
       "      <th>course_code</th>\n",
       "      <th>course_name</th>\n",
       "      <th>section_number</th>\n",
       "      <th>course_type</th>\n",
       "      <th>course_hours</th>\n",
       "      <th>course_gender</th>\n",
       "      <th>course_day</th>\n",
       "      <th>course_time</th>\n",
       "      <th>final_exam_day</th>\n",
       "      <th>final_exam_date</th>\n",
       "      <th>final_exam_time</th>\n",
       "      <th>lecturer</th>\n",
       "    </tr>\n",
       "  </thead>\n",
       "  <tbody>\n",
       "    <tr>\n",
       "      <th>0</th>\n",
       "      <td>227 عال</td>\n",
       "      <td>نظم التشغيل</td>\n",
       "      <td>12320</td>\n",
       "      <td>محاضرة</td>\n",
       "      <td>3</td>\n",
       "      <td>ذكر</td>\n",
       "      <td>[2, 24]</td>\n",
       "      <td>[08:00-09:05, 09:15-10:20]</td>\n",
       "      <td>3</td>\n",
       "      <td>1444-11-24</td>\n",
       "      <td>01:00 م - 04:00 م</td>\n",
       "      <td>['مجدل سلطان مجدل بن سفران']</td>\n",
       "    </tr>\n",
       "    <tr>\n",
       "      <th>1</th>\n",
       "      <td>227 عال</td>\n",
       "      <td>نظم التشغيل</td>\n",
       "      <td>12321</td>\n",
       "      <td>تمارين</td>\n",
       "      <td>ذكر</td>\n",
       "      <td>مغلقة</td>\n",
       "      <td>[4]</td>\n",
       "      <td>[08:00-09:05]</td>\n",
       "      <td>---</td>\n",
       "      <td>---</td>\n",
       "      <td>---</td>\n",
       "      <td>['مجدل سلطان مجدل بن سفران']</td>\n",
       "    </tr>\n",
       "    <tr>\n",
       "      <th>2</th>\n",
       "      <td>227 عال</td>\n",
       "      <td>نظم التشغيل</td>\n",
       "      <td>12328</td>\n",
       "      <td>محاضرة</td>\n",
       "      <td>3</td>\n",
       "      <td>ذكر</td>\n",
       "      <td>[1, 13]</td>\n",
       "      <td>[08:00-09:05, 09:15-10:20]</td>\n",
       "      <td>3</td>\n",
       "      <td>1444-11-24</td>\n",
       "      <td>01:00 م - 04:00 م</td>\n",
       "      <td>['محمد جاويد يوسف']</td>\n",
       "    </tr>\n",
       "    <tr>\n",
       "      <th>3</th>\n",
       "      <td>227 عال</td>\n",
       "      <td>نظم التشغيل</td>\n",
       "      <td>12329</td>\n",
       "      <td>تمارين</td>\n",
       "      <td>ذكر</td>\n",
       "      <td>مغلقة</td>\n",
       "      <td>[3]</td>\n",
       "      <td>[08:00-09:05]</td>\n",
       "      <td>---</td>\n",
       "      <td>---</td>\n",
       "      <td>---</td>\n",
       "      <td>['محمد جاويد يوسف']</td>\n",
       "    </tr>\n",
       "    <tr>\n",
       "      <th>4</th>\n",
       "      <td>227 عال</td>\n",
       "      <td>نظم التشغيل</td>\n",
       "      <td>35605</td>\n",
       "      <td>محاضرة</td>\n",
       "      <td>3</td>\n",
       "      <td>ذكر</td>\n",
       "      <td>[4, 24]</td>\n",
       "      <td>[08:00-09:05, 09:15-10:20]</td>\n",
       "      <td>3</td>\n",
       "      <td>1444-11-24</td>\n",
       "      <td>01:00 م - 04:00 م</td>\n",
       "      <td>['فواز عبدالعزيز عبدالله السليمان']</td>\n",
       "    </tr>\n",
       "    <tr>\n",
       "      <th>5</th>\n",
       "      <td>227 عال</td>\n",
       "      <td>نظم التشغيل</td>\n",
       "      <td>35606</td>\n",
       "      <td>تمارين</td>\n",
       "      <td>ذكر</td>\n",
       "      <td>مغلقة</td>\n",
       "      <td>[2]</td>\n",
       "      <td>[08:00-09:05]</td>\n",
       "      <td>---</td>\n",
       "      <td>---</td>\n",
       "      <td>---</td>\n",
       "      <td>['محمد جاويد يوسف']</td>\n",
       "    </tr>\n",
       "    <tr>\n",
       "      <th>6</th>\n",
       "      <td>227 عال</td>\n",
       "      <td>نظم التشغيل</td>\n",
       "      <td>81787</td>\n",
       "      <td>محاضرة</td>\n",
       "      <td>3</td>\n",
       "      <td>ذكر</td>\n",
       "      <td>[135]</td>\n",
       "      <td>[09:15-10:20]</td>\n",
       "      <td>3</td>\n",
       "      <td>1444-11-24</td>\n",
       "      <td>01:00 م - 04:00 م</td>\n",
       "      <td>['احمد جعفر الفنوش الشبلي']</td>\n",
       "    </tr>\n",
       "    <tr>\n",
       "      <th>7</th>\n",
       "      <td>227 عال</td>\n",
       "      <td>نظم التشغيل</td>\n",
       "      <td>81788</td>\n",
       "      <td>تمارين</td>\n",
       "      <td>ذكر</td>\n",
       "      <td>مغلقة</td>\n",
       "      <td>[3]</td>\n",
       "      <td>[11:45-12:50]</td>\n",
       "      <td>---</td>\n",
       "      <td>---</td>\n",
       "      <td>---</td>\n",
       "      <td>['احمد جعفر الفنوش الشبلي']</td>\n",
       "    </tr>\n",
       "    <tr>\n",
       "      <th>8</th>\n",
       "      <td>227 عال</td>\n",
       "      <td>نظم التشغيل</td>\n",
       "      <td>81901</td>\n",
       "      <td>محاضرة</td>\n",
       "      <td>3</td>\n",
       "      <td>ذكر</td>\n",
       "      <td>[2, 24]</td>\n",
       "      <td>[10:30-11:35, 11:45-12:50]</td>\n",
       "      <td>3</td>\n",
       "      <td>1444-11-24</td>\n",
       "      <td>01:00 م - 04:00 م</td>\n",
       "      <td>['فواز عبدالعزيز عبدالله السليمان']</td>\n",
       "    </tr>\n",
       "    <tr>\n",
       "      <th>9</th>\n",
       "      <td>227 عال</td>\n",
       "      <td>نظم التشغيل</td>\n",
       "      <td>81902</td>\n",
       "      <td>تمارين</td>\n",
       "      <td>ذكر</td>\n",
       "      <td>مغلقة</td>\n",
       "      <td>[4]</td>\n",
       "      <td>[10:30-11:35]</td>\n",
       "      <td>---</td>\n",
       "      <td>---</td>\n",
       "      <td>---</td>\n",
       "      <td>['محمد جاويد يوسف']</td>\n",
       "    </tr>\n",
       "    <tr>\n",
       "      <th>10</th>\n",
       "      <td>227 عال</td>\n",
       "      <td>نظم التشغيل</td>\n",
       "      <td>85788</td>\n",
       "      <td>محاضرة</td>\n",
       "      <td>3</td>\n",
       "      <td>ذكر</td>\n",
       "      <td>[24, 4]</td>\n",
       "      <td>[10:30-11:35, 11:45-12:50]</td>\n",
       "      <td>3</td>\n",
       "      <td>1444-11-24</td>\n",
       "      <td>01:00 م - 04:00 م</td>\n",
       "      <td>['مجدل سلطان مجدل بن سفران']</td>\n",
       "    </tr>\n",
       "    <tr>\n",
       "      <th>11</th>\n",
       "      <td>227 عال</td>\n",
       "      <td>نظم التشغيل</td>\n",
       "      <td>85789</td>\n",
       "      <td>تمارين</td>\n",
       "      <td>ذكر</td>\n",
       "      <td>مغلقة</td>\n",
       "      <td>[2]</td>\n",
       "      <td>[11:45-12:50]</td>\n",
       "      <td>---</td>\n",
       "      <td>---</td>\n",
       "      <td>---</td>\n",
       "      <td>['مجدل سلطان مجدل بن سفران']</td>\n",
       "    </tr>\n",
       "  </tbody>\n",
       "</table>\n",
       "</div>"
      ],
      "text/plain": [
       "   course_code  course_name  section_number course_type course_hours  \\\n",
       "0      227 عال  نظم التشغيل           12320      محاضرة            3   \n",
       "1      227 عال  نظم التشغيل           12321      تمارين          ذكر   \n",
       "2      227 عال  نظم التشغيل           12328      محاضرة            3   \n",
       "3      227 عال  نظم التشغيل           12329      تمارين          ذكر   \n",
       "4      227 عال  نظم التشغيل           35605      محاضرة            3   \n",
       "5      227 عال  نظم التشغيل           35606      تمارين          ذكر   \n",
       "6      227 عال  نظم التشغيل           81787      محاضرة            3   \n",
       "7      227 عال  نظم التشغيل           81788      تمارين          ذكر   \n",
       "8      227 عال  نظم التشغيل           81901      محاضرة            3   \n",
       "9      227 عال  نظم التشغيل           81902      تمارين          ذكر   \n",
       "10     227 عال  نظم التشغيل           85788      محاضرة            3   \n",
       "11     227 عال  نظم التشغيل           85789      تمارين          ذكر   \n",
       "\n",
       "   course_gender course_day                 course_time final_exam_day  \\\n",
       "0            ذكر    [2, 24]  [08:00-09:05, 09:15-10:20]              3   \n",
       "1          مغلقة        [4]               [08:00-09:05]            ---   \n",
       "2            ذكر    [1, 13]  [08:00-09:05, 09:15-10:20]              3   \n",
       "3          مغلقة        [3]               [08:00-09:05]            ---   \n",
       "4            ذكر    [4, 24]  [08:00-09:05, 09:15-10:20]              3   \n",
       "5          مغلقة        [2]               [08:00-09:05]            ---   \n",
       "6            ذكر      [135]               [09:15-10:20]              3   \n",
       "7          مغلقة        [3]               [11:45-12:50]            ---   \n",
       "8            ذكر    [2, 24]  [10:30-11:35, 11:45-12:50]              3   \n",
       "9          مغلقة        [4]               [10:30-11:35]            ---   \n",
       "10           ذكر    [24, 4]  [10:30-11:35, 11:45-12:50]              3   \n",
       "11         مغلقة        [2]               [11:45-12:50]            ---   \n",
       "\n",
       "   final_exam_date    final_exam_time                             lecturer  \n",
       "0       1444-11-24  01:00 م - 04:00 م         ['مجدل سلطان مجدل بن سفران']  \n",
       "1              ---                ---         ['مجدل سلطان مجدل بن سفران']  \n",
       "2       1444-11-24  01:00 م - 04:00 م                  ['محمد جاويد يوسف']  \n",
       "3              ---                ---                  ['محمد جاويد يوسف']  \n",
       "4       1444-11-24  01:00 م - 04:00 م  ['فواز عبدالعزيز عبدالله السليمان']  \n",
       "5              ---                ---                  ['محمد جاويد يوسف']  \n",
       "6       1444-11-24  01:00 م - 04:00 م          ['احمد جعفر الفنوش الشبلي']  \n",
       "7              ---                ---          ['احمد جعفر الفنوش الشبلي']  \n",
       "8       1444-11-24  01:00 م - 04:00 م  ['فواز عبدالعزيز عبدالله السليمان']  \n",
       "9              ---                ---                  ['محمد جاويد يوسف']  \n",
       "10      1444-11-24  01:00 م - 04:00 م         ['مجدل سلطان مجدل بن سفران']  \n",
       "11             ---                ---         ['مجدل سلطان مجدل بن سفران']  "
      ]
     },
     "execution_count": 17,
     "metadata": {},
     "output_type": "execute_result"
    }
   ],
   "source": [
    "df"
   ]
  },
  {
   "cell_type": "code",
   "execution_count": 75,
   "id": "2aeb496c",
   "metadata": {},
   "outputs": [],
   "source": [
    "df.to_csv(f'{file_to_be_read}_combined.csv',index=False)"
   ]
  },
  {
   "cell_type": "markdown",
   "id": "5e2fae5e",
   "metadata": {},
   "source": [
    "# Congrats !!\n",
    "\n",
    "You have officialy scraped the content from KSU. now you need to do a new jadwali website and the website should be stylish and more appealing than the current one ! GOOD LUCK!"
   ]
  }
 ],
 "metadata": {
  "kernelspec": {
   "display_name": "Python 3 (ipykernel)",
   "language": "python",
   "name": "python3"
  },
  "language_info": {
   "codemirror_mode": {
    "name": "ipython",
    "version": 3
   },
   "file_extension": ".py",
   "mimetype": "text/x-python",
   "name": "python",
   "nbconvert_exporter": "python",
   "pygments_lexer": "ipython3",
   "version": "3.9.13"
  }
 },
 "nbformat": 4,
 "nbformat_minor": 5
}
